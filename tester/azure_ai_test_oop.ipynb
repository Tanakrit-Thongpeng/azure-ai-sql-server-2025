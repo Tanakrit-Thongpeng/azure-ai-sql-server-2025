{
 "cells": [
  {
   "cell_type": "markdown",
   "metadata": {},
   "source": [
    "**Import library**"
   ]
  },
  {
   "cell_type": "code",
   "execution_count": 35,
   "metadata": {},
   "outputs": [],
   "source": [
    "from openai import AzureOpenAI\n",
    "import pyodbc\n",
    "import pandas as pd\n",
    "\n",
    "import os\n",
    "from dotenv import load_dotenv\n",
    "from pathlib import Path\n",
    "\n",
    "import re\n",
    "from datetime import datetime\n",
    "\n",
    "import sys\n",
    "sys.path.append(str(Path(os.getcwd()).parent / \"service\"))\n",
    "from database import DatabaseService"
   ]
  },
  {
   "cell_type": "markdown",
   "metadata": {},
   "source": [
    "**Locate env path**"
   ]
  },
  {
   "cell_type": "code",
   "execution_count": 36,
   "metadata": {},
   "outputs": [
    {
     "data": {
      "text/plain": [
       "True"
      ]
     },
     "execution_count": 36,
     "metadata": {},
     "output_type": "execute_result"
    }
   ],
   "source": [
    "script_dir = Path(os.getcwd()).parent\n",
    "env_path = script_dir / '.env'\n",
    "load_dotenv(env_path)"
   ]
  },
  {
   "cell_type": "markdown",
   "metadata": {},
   "source": [
    "**Object Oriented Programming**"
   ]
  },
  {
   "cell_type": "code",
   "execution_count": 37,
   "metadata": {},
   "outputs": [],
   "source": [
    "class AzureAI:\n",
    "\n",
    "    def __init__(self):\n",
    "\n",
    "        self.sql_file_path = script_dir / \"sql_script\" / \"Schema.sql\"\n",
    "\n",
    "        self.model_name = os.getenv(\"openai_model_name\")\n",
    "\n",
    "        self.api_key = os.getenv(\"openai_model_api_key\")\n",
    "        self.api_version = os.getenv(\"openai_api_version\")\n",
    "        self.azure_endpoint = os.getenv(\"openai_api_endpoint\")\n",
    "\n",
    "        self.database = os.getenv('azure_database')\n",
    "        self.schema = os.getenv('azure_schema')\n",
    "    \n",
    "    def ai_response(self, user_prompt, create_sql_script=False):\n",
    "\n",
    "        with open(self.sql_file_path, 'r', encoding='utf-8') as file:\n",
    "            schema_query = file.read()\n",
    "\n",
    "        conn = DatabaseService().create_connection()\n",
    "\n",
    "        schema_df = pd.read_sql_query(schema_query, conn)\n",
    "        schema_df = schema_df[schema_df['TABLE_CATALOG'] == f'{self.database}']\n",
    "        schema_df = schema_df[schema_df['TABLE_SCHEMA'] == f'{self.schema}']\n",
    "\n",
    "        schema_text = \"\"\n",
    "        for (schema, table), group in schema_df.groupby(['TABLE_SCHEMA', 'TABLE_NAME']):\n",
    "            columns = \", \".join(f\"{row.COLUMN_NAME} ({row.DATA_TYPE})\" for _, row in group.iterrows())\n",
    "            schema_text += f\"Table {schema}.{table}: {columns}\\n\"\n",
    "\n",
    "        user_prompt = user_prompt\n",
    "\n",
    "        model_name = self.model_name\n",
    "\n",
    "        client = AzureOpenAI(\n",
    "            api_key=self.api_key,\n",
    "            api_version=self.api_version,\n",
    "            azure_endpoint=self.azure_endpoint,\n",
    "        )\n",
    "\n",
    "        system_message = f\"\"\"\n",
    "        You are a helpful assistant that writes SQL Server queries.\n",
    "        Here is the database schema:\n",
    "\n",
    "        {schema_text}\n",
    "        \"\"\"\n",
    "\n",
    "        response = client.chat.completions.create(\n",
    "            model=model_name,\n",
    "            messages=[\n",
    "                {\"role\": \"system\", \"content\": system_message},\n",
    "                {\"role\": \"user\", \"content\": f\"Write a SQL Server query for this: {user_prompt}\"}\n",
    "            ]\n",
    "        )\n",
    "\n",
    "        generated_sql, result = response.choices[0].message.content\n",
    "\n",
    "        print(f\"Response: {generated_sql}\")\n",
    "\n",
    "        sql_code_blocks = re.findall(r\"```sql\\s*(.*?)```\", generated_sql, re.DOTALL)\n",
    "\n",
    "        if sql_code_blocks:\n",
    "            generated_sql = sql_code_blocks[0].strip()\n",
    "\n",
    "        try:\n",
    "            df = pd.read_sql_query(generated_sql, conn)\n",
    "            print(f\"Query Results: {df}\")\n",
    "        except Exception as e:\n",
    "            print(\"Error running the query:\", e)\n",
    "\n",
    "        if create_sql_script:\n",
    "            pass\n",
    "        else:\n",
    "            result\n",
    "\n",
    "        return result\n",
    "    \n",
    "    def create_sql_script(self, user_prompt, save_sql=False):\n",
    "\n",
    "        def find_latest_script_number(folder_path):\n",
    "            folder = Path(folder_path)\n",
    "            max_number = 0\n",
    "\n",
    "            # Pattern to match filenames like Script-<number>.sql\n",
    "            pattern = re.compile(r\"Script-(\\d+)\\.sql\", re.IGNORECASE)\n",
    "\n",
    "            for file in folder.glob(\"Script-*.sql\"):\n",
    "                match = pattern.match(file.name)\n",
    "                if match:\n",
    "                    number = int(match.group(1))\n",
    "                    if number > max_number:\n",
    "                        max_number = number\n",
    "\n",
    "            return max_number\n",
    "\n",
    "        generated_sql = self.ai_response(user_prompt=user_prompt)\n",
    "\n",
    "        # Extract just the SQL code between ```sql and ```\n",
    "        sql_code_blocks = re.findall(r\"```sql\\s*(.*?)```\", generated_sql, re.DOTALL)\n",
    "        description_blocks = re.split(r\"```(?:sql)?[\\s\\S]*?```\", generated_sql)\n",
    "\n",
    "        if sql_code_blocks:\n",
    "            generated_sql = sql_code_blocks[0].strip()\n",
    "            generated_description = description_blocks[1].strip()\n",
    "        else:\n",
    "            generated_sql = generated_sql.strip()  # fallback\n",
    "            generated_description = generated_sql.strip()  # fallback\n",
    "\n",
    "        query_string = f\"\"\"{generated_sql}\"\"\"\n",
    "\n",
    "        Author = \"AI Generated SQL Query\"\n",
    "\n",
    "        day = datetime.now().day\n",
    "        month = datetime.now().month\n",
    "        year = datetime.now().year\n",
    "        date_obj = datetime(year, month, day)\n",
    "        create_date = date_obj.strftime(\"%d/%m/%Y\")\n",
    "\n",
    "        description = generated_description\n",
    "\n",
    "        header = f\"\"\"-- =============================================\n",
    "-- Author:\t\t{Author}\n",
    "-- Create date: {create_date}\n",
    "-- Description:\t{description}\n",
    "-- =============================================\n",
    "        \"\"\"\n",
    "\n",
    "        folder_path = script_dir / \"sql-script\"\n",
    "        latest_number = find_latest_script_number(folder_path)\n",
    "        # print(\"Latest script number:\", latest_number)\n",
    "\n",
    "        output_path = script_dir / \"sql-script\" / f\"Script-{latest_number+1}.sql\"\n",
    "\n",
    "        # Make sure the directory exists, create if not\n",
    "        output_path.parent.mkdir(parents=True, exist_ok=True)\n",
    "\n",
    "        full_sql = header + \"\\n\" + query_string\n",
    "\n",
    "        if save_sql:\n",
    "            # Write to file\n",
    "            with open(output_path, \"w\", encoding=\"utf-8\") as f:\n",
    "                f.write(full_sql)\n",
    "        else:\n",
    "            pass\n",
    "\n",
    "        if save_sql == True:\n",
    "            return f\"\\nGenerated SQL:\\n, {generated_sql}\\n\\n Query Results: {df}\\n SQL file saved to: {output_path}\"\n",
    "        else:\n",
    "            return f\"\\nGenerated SQL:\\n, {generated_sql}\\n\\n Query Results: {df}\""
   ]
  },
  {
   "cell_type": "code",
   "execution_count": 39,
   "metadata": {},
   "outputs": [
    {
     "name": "stderr",
     "output_type": "stream",
     "text": [
      "C:\\Users\\Admins\\AppData\\Local\\Temp\\ipykernel_18948\\1824907698.py:23: UserWarning: pandas only supports SQLAlchemy connectable (engine/connection) or database string URI or sqlite3 DBAPI2 connection. Other DBAPI2 objects are not tested. Please consider using SQLAlchemy.\n",
      "  schema_df = pd.read_sql_query(schema_query, conn)\n"
     ]
    },
    {
     "name": "stdout",
     "output_type": "stream",
     "text": [
      "Response: Certainly! Here is the SQL query to show you the top 10 customers who have spent the most:\n",
      "\n",
      "```sql\n",
      "SELECT TOP 10\n",
      "    c.CustomerID,\n",
      "    c.FirstName,\n",
      "    c.LastName,\n",
      "    c.CompanyName,\n",
      "    SUM(od.LineTotal) AS TotalSpent\n",
      "FROM dbo.Customer c\n",
      "JOIN dbo.SalesOrderHeader soh ON c.CustomerID = soh.CustomerID\n",
      "JOIN dbo.SalesOrderDetail od ON soh.SalesOrderID = od.SalesOrderID\n",
      "GROUP BY c.CustomerID, c.FirstName, c.LastName, c.CompanyName\n",
      "ORDER BY TotalSpent DESC;\n",
      "``` \n",
      "\n",
      "This query retrieves the top 10 customers along with their total spent amount. The results are ordered by the total amount spent in descending order.\n",
      "Query Results:    CustomerID    FirstName      LastName                     CompanyName  \\\n",
      "0       29736        Terry     Eminhizer      Action Bicycle Specialists   \n",
      "1       30050      Krishna  Sunkammurali     Metropolitan Bicycle Supply   \n",
      "2       29546  Christopher          Beck             Bulk Discount Store   \n",
      "3       29957        Kevin           Liu       Eastside Department Store   \n",
      "4       29796          Jon        Grande                   Riding Cycles   \n",
      "5       29929      Jeffrey         Kurtz                Many Bikes Store   \n",
      "6       29932      Rebecca        Laszlo   Instruments and Parts Company   \n",
      "7       29660      Anthony          Chor         Extreme Riding Supplies   \n",
      "8       29938        Frank      Campbell             Trailblazing Sports   \n",
      "9       29485    Catherine          Abel  Professional Sales and Service   \n",
      "\n",
      "     TotalSpent  \n",
      "0  89869.276314  \n",
      "1  79589.616024  \n",
      "2  74160.228000  \n",
      "3  65683.367986  \n",
      "4  65123.463418  \n",
      "5  59894.209200  \n",
      "6  53248.692000  \n",
      "7  47848.026000  \n",
      "8  34118.535600  \n",
      "9  33319.986000  \n"
     ]
    },
    {
     "name": "stderr",
     "output_type": "stream",
     "text": [
      "C:\\Users\\Admins\\AppData\\Local\\Temp\\ipykernel_18948\\1824907698.py:67: UserWarning: pandas only supports SQLAlchemy connectable (engine/connection) or database string URI or sqlite3 DBAPI2 connection. Other DBAPI2 objects are not tested. Please consider using SQLAlchemy.\n",
      "  df = pd.read_sql_query(generated_sql, conn)\n"
     ]
    },
    {
     "data": {
      "text/plain": [
       "'Certainly! Here is the SQL query to show you the top 10 customers who have spent the most:\\n\\n```sql\\nSELECT TOP 10\\n    c.CustomerID,\\n    c.FirstName,\\n    c.LastName,\\n    c.CompanyName,\\n    SUM(od.LineTotal) AS TotalSpent\\nFROM dbo.Customer c\\nJOIN dbo.SalesOrderHeader soh ON c.CustomerID = soh.CustomerID\\nJOIN dbo.SalesOrderDetail od ON soh.SalesOrderID = od.SalesOrderID\\nGROUP BY c.CustomerID, c.FirstName, c.LastName, c.CompanyName\\nORDER BY TotalSpent DESC;\\n``` \\n\\nThis query retrieves the top 10 customers along with their total spent amount. The results are ordered by the total amount spent in descending order.'"
      ]
     },
     "execution_count": 39,
     "metadata": {},
     "output_type": "execute_result"
    }
   ],
   "source": [
    "AzureAI().ai_response(user_prompt=\"Show me the top 10 most spender customers\")"
   ]
  }
 ],
 "metadata": {
  "kernelspec": {
   "display_name": "Python 3",
   "language": "python",
   "name": "python3"
  },
  "language_info": {
   "codemirror_mode": {
    "name": "ipython",
    "version": 3
   },
   "file_extension": ".py",
   "mimetype": "text/x-python",
   "name": "python",
   "nbconvert_exporter": "python",
   "pygments_lexer": "ipython3",
   "version": "3.8.10"
  }
 },
 "nbformat": 4,
 "nbformat_minor": 2
}
