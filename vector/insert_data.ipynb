{
 "cells": [
  {
   "cell_type": "markdown",
   "metadata": {},
   "source": [
    "**Import library**"
   ]
  },
  {
   "cell_type": "code",
   "execution_count": 1,
   "metadata": {},
   "outputs": [],
   "source": [
    "import pandas as pd\n",
    "import psycopg2\n",
    "import json\n",
    "import pymssql\n",
    "from sqlalchemy import create_engine, text\n",
    "import ast\n",
    "\n",
    "import os\n",
    "from dotenv import load_dotenv\n",
    "from pathlib import Path\n",
    "\n",
    "import sys\n",
    "sys.path.append(str(Path(os.getcwd()).parent / \"service\"))\n",
    "from database import DatabaseService"
   ]
  },
  {
   "cell_type": "markdown",
   "metadata": {},
   "source": [
    "**Locate env path**"
   ]
  },
  {
   "cell_type": "code",
   "execution_count": 2,
   "metadata": {},
   "outputs": [
    {
     "name": "stdout",
     "output_type": "stream",
     "text": [
      "Script Path:\tc:\\Users\\Admins\\Desktop\\Tae\\work\\azure-sql-2025-tester\n",
      "env Path:\tc:\\Users\\Admins\\Desktop\\Tae\\work\\azure-sql-2025-tester\\.env\n",
      "Load env:\tTrue\n"
     ]
    }
   ],
   "source": [
    "script_dir = Path(os.getcwd()).parent\n",
    "env_path = script_dir / '.env'\n",
    "load_dotenv(env_path)\n",
    "\n",
    "print(f'Script Path:\\t{script_dir}\\nenv Path:\\t{env_path}\\nLoad env:\\t{load_dotenv(env_path)}')"
   ]
  },
  {
   "cell_type": "markdown",
   "metadata": {},
   "source": [
    "**Connection Database**"
   ]
  },
  {
   "cell_type": "code",
   "execution_count": 3,
   "metadata": {},
   "outputs": [],
   "source": [
    "server = os.getenv('doi_server')\n",
    "port = os.getenv('doi_port')\n",
    "database = os.getenv('doi_database')\n",
    "username = os.getenv('doi_username')\n",
    "password = os.getenv('doi_password')"
   ]
  },
  {
   "cell_type": "code",
   "execution_count": 4,
   "metadata": {},
   "outputs": [
    {
     "data": {
      "text/plain": [
       "<connection object at 0x0000021D25EC28C0; dsn: 'user=opt_service password=xxx dbname=doi_operation host=10.10.10.112 port=5432', closed: 0>"
      ]
     },
     "execution_count": 4,
     "metadata": {},
     "output_type": "execute_result"
    }
   ],
   "source": [
    "conn = psycopg2.connect(\n",
    "    dbname=database,\n",
    "    user=username,\n",
    "    password=password,\n",
    "    host=server,\n",
    "    port=port\n",
    ")\n",
    "conn"
   ]
  },
  {
   "cell_type": "code",
   "execution_count": 5,
   "metadata": {},
   "outputs": [
    {
     "data": {
      "text/plain": [
       "<cursor object at 0x0000021D46C86BA0; closed: 0>"
      ]
     },
     "execution_count": 5,
     "metadata": {},
     "output_type": "execute_result"
    }
   ],
   "source": [
    "cur = conn.cursor()\n",
    "cur"
   ]
  },
  {
   "cell_type": "code",
   "execution_count": 98,
   "metadata": {},
   "outputs": [],
   "source": [
    "ibs_intell_query = \"\"\"\n",
    "SELECT DISTINCT\n",
    "\ti.* \n",
    "FROM \n",
    "\tibs_intell i \n",
    "JOIN\n",
    "\tibs_intell_vector iv ON i.intell_id = iv.intell_id AND iv.is_active = True\n",
    "WHERE \n",
    "\t(iv.model_embedding = 'wordvector_BAAI' OR iv.model_embedding = 'kornwtp/ConGen-model-XLMR')\n",
    "\tAND i.is_publish = TRUE\n",
    "\tAND i.is_active = TRUE\n",
    "\"\"\""
   ]
  },
  {
   "cell_type": "code",
   "execution_count": 6,
   "metadata": {},
   "outputs": [],
   "source": [
    "ibs_intell_vector_query = \"\"\"\n",
    "SELECT \n",
    "\tiv.* \n",
    "FROM \n",
    "\tibs_intell i \n",
    "JOIN\n",
    "\tibs_intell_vector iv ON i.intell_id = iv.intell_id AND iv.is_active = True\n",
    "WHERE \n",
    "\t(iv.model_embedding = 'wordvector_BAAI' OR iv.model_embedding = 'kornwtp/ConGen-model-XLMR')\n",
    "\tAND i.is_publish = TRUE\n",
    "\tAND i.is_active = TRUE\n",
    "\"\"\""
   ]
  },
  {
   "cell_type": "code",
   "execution_count": 46,
   "metadata": {},
   "outputs": [],
   "source": [
    "cur.execute(ibs_intell_vector_query)"
   ]
  },
  {
   "cell_type": "code",
   "execution_count": 47,
   "metadata": {},
   "outputs": [
    {
     "data": {
      "text/html": [
       "<div>\n",
       "<style scoped>\n",
       "    .dataframe tbody tr th:only-of-type {\n",
       "        vertical-align: middle;\n",
       "    }\n",
       "\n",
       "    .dataframe tbody tr th {\n",
       "        vertical-align: top;\n",
       "    }\n",
       "\n",
       "    .dataframe thead th {\n",
       "        text-align: right;\n",
       "    }\n",
       "</style>\n",
       "<table border=\"1\" class=\"dataframe\">\n",
       "  <thead>\n",
       "    <tr style=\"text-align: right;\">\n",
       "      <th></th>\n",
       "      <th>intell_vector_id</th>\n",
       "      <th>intell_id</th>\n",
       "      <th>vector</th>\n",
       "      <th>create_by</th>\n",
       "      <th>update_by</th>\n",
       "      <th>delete_by</th>\n",
       "      <th>create_at</th>\n",
       "      <th>update_at</th>\n",
       "      <th>delete_at</th>\n",
       "      <th>is_active</th>\n",
       "      <th>nlp_id</th>\n",
       "      <th>intell_vector_type_id</th>\n",
       "      <th>model_embedding</th>\n",
       "      <th>sentence</th>\n",
       "      <th>system_name</th>\n",
       "    </tr>\n",
       "  </thead>\n",
       "  <tbody>\n",
       "    <tr>\n",
       "      <th>0</th>\n",
       "      <td>55ca94ac-5a65-4c9b-a5d5-5923dd65abb1</td>\n",
       "      <td>e3e122fe-0705-47d7-8c4b-2d2d9ecf6f7c</td>\n",
       "      <td>[0.019757796,8.7733555e-05,-0.04523224,0.00233...</td>\n",
       "      <td>None</td>\n",
       "      <td>None</td>\n",
       "      <td>None</td>\n",
       "      <td>2024-12-11 08:57:58.390253</td>\n",
       "      <td>2025-02-11 03:03:42.184137</td>\n",
       "      <td>None</td>\n",
       "      <td>True</td>\n",
       "      <td>667cdbc0a6b940c7269b7df7</td>\n",
       "      <td>8</td>\n",
       "      <td>wordvector_BAAI</td>\n",
       "      <td>None</td>\n",
       "      <td>None</td>\n",
       "    </tr>\n",
       "    <tr>\n",
       "      <th>1</th>\n",
       "      <td>754a5b38-988f-4691-9655-ff376c9a094e</td>\n",
       "      <td>1f242d0e-1afd-4a28-b3c1-282d992c4f8e</td>\n",
       "      <td>[-0.02983131,-0.0064043696,-0.03684028,-0.0049...</td>\n",
       "      <td>None</td>\n",
       "      <td>None</td>\n",
       "      <td>None</td>\n",
       "      <td>2024-12-11 08:57:58.390253</td>\n",
       "      <td>2025-02-11 03:03:42.184137</td>\n",
       "      <td>None</td>\n",
       "      <td>True</td>\n",
       "      <td>667cdbc1d1f3f17b3b335d34</td>\n",
       "      <td>10</td>\n",
       "      <td>wordvector_BAAI</td>\n",
       "      <td>None</td>\n",
       "      <td>None</td>\n",
       "    </tr>\n",
       "    <tr>\n",
       "      <th>2</th>\n",
       "      <td>847e973b-5d79-46df-b923-2e9718817c3a</td>\n",
       "      <td>1f242d0e-1afd-4a28-b3c1-282d992c4f8e</td>\n",
       "      <td>[-0.018671503,0.0038923493,-0.026133837,0.0085...</td>\n",
       "      <td>None</td>\n",
       "      <td>None</td>\n",
       "      <td>None</td>\n",
       "      <td>2024-12-11 08:57:58.390253</td>\n",
       "      <td>2025-02-11 03:03:42.184137</td>\n",
       "      <td>None</td>\n",
       "      <td>True</td>\n",
       "      <td>667cdbc1d1f3f17b3b335d34</td>\n",
       "      <td>9</td>\n",
       "      <td>wordvector_BAAI</td>\n",
       "      <td>None</td>\n",
       "      <td>None</td>\n",
       "    </tr>\n",
       "    <tr>\n",
       "      <th>3</th>\n",
       "      <td>b00be91c-89b8-4e53-9a02-f7a55d5717c6</td>\n",
       "      <td>1f242d0e-1afd-4a28-b3c1-282d992c4f8e</td>\n",
       "      <td>[-0.02983131,-0.0064043696,-0.03684028,-0.0049...</td>\n",
       "      <td>None</td>\n",
       "      <td>None</td>\n",
       "      <td>None</td>\n",
       "      <td>2024-12-11 08:57:58.390253</td>\n",
       "      <td>2025-02-11 03:03:42.184137</td>\n",
       "      <td>None</td>\n",
       "      <td>True</td>\n",
       "      <td>667cdbc1d1f3f17b3b335d34</td>\n",
       "      <td>7</td>\n",
       "      <td>wordvector_BAAI</td>\n",
       "      <td>None</td>\n",
       "      <td>None</td>\n",
       "    </tr>\n",
       "    <tr>\n",
       "      <th>4</th>\n",
       "      <td>624f1be0-d315-4aae-9395-144bcb06b583</td>\n",
       "      <td>1f242d0e-1afd-4a28-b3c1-282d992c4f8e</td>\n",
       "      <td>[-0.053423032,0.050187144,0.0013174798,-0.0127...</td>\n",
       "      <td>None</td>\n",
       "      <td>None</td>\n",
       "      <td>None</td>\n",
       "      <td>2024-12-11 08:57:58.390253</td>\n",
       "      <td>2025-02-11 03:03:42.184137</td>\n",
       "      <td>None</td>\n",
       "      <td>True</td>\n",
       "      <td>667cdbc1d1f3f17b3b335d34</td>\n",
       "      <td>8</td>\n",
       "      <td>wordvector_BAAI</td>\n",
       "      <td>None</td>\n",
       "      <td>None</td>\n",
       "    </tr>\n",
       "    <tr>\n",
       "      <th>...</th>\n",
       "      <td>...</td>\n",
       "      <td>...</td>\n",
       "      <td>...</td>\n",
       "      <td>...</td>\n",
       "      <td>...</td>\n",
       "      <td>...</td>\n",
       "      <td>...</td>\n",
       "      <td>...</td>\n",
       "      <td>...</td>\n",
       "      <td>...</td>\n",
       "      <td>...</td>\n",
       "      <td>...</td>\n",
       "      <td>...</td>\n",
       "      <td>...</td>\n",
       "      <td>...</td>\n",
       "    </tr>\n",
       "    <tr>\n",
       "      <th>181393</th>\n",
       "      <td>462213ed-9ce2-496a-ac03-02c150a9e887</td>\n",
       "      <td>6c44e597-0c21-403c-920c-496bc3234b08</td>\n",
       "      <td>[0.17933162,-0.22257842,0.010934065,0.07883968...</td>\n",
       "      <td>None</td>\n",
       "      <td>None</td>\n",
       "      <td>None</td>\n",
       "      <td>2024-07-02 09:43:20.973363</td>\n",
       "      <td>2024-08-26 04:45:15.007805</td>\n",
       "      <td>None</td>\n",
       "      <td>True</td>\n",
       "      <td>None</td>\n",
       "      <td>2</td>\n",
       "      <td>kornwtp/ConGen-model-XLMR</td>\n",
       "      <td>�เห็นถึงวิธีการของเกาหลีเหนือในการป้องปรามสงคร...</td>\n",
       "      <td>ibs</td>\n",
       "    </tr>\n",
       "    <tr>\n",
       "      <th>181394</th>\n",
       "      <td>df5361e8-d34f-4fcb-9ba2-a43d1628a1c6</td>\n",
       "      <td>6c44e597-0c21-403c-920c-496bc3234b08</td>\n",
       "      <td>[0.007742781,-0.0143486075,0.0041142707,-0.099...</td>\n",
       "      <td>None</td>\n",
       "      <td>None</td>\n",
       "      <td>None</td>\n",
       "      <td>2024-07-02 09:43:20.973363</td>\n",
       "      <td>2024-08-26 04:45:15.007805</td>\n",
       "      <td>None</td>\n",
       "      <td>True</td>\n",
       "      <td>None</td>\n",
       "      <td>2</td>\n",
       "      <td>kornwtp/ConGen-model-XLMR</td>\n",
       "      <td>ม่ทราบประเภทอย่างน้อย ๑ ลูก จากเรือดำน้ำ\\nของเ...</td>\n",
       "      <td>ibs</td>\n",
       "    </tr>\n",
       "    <tr>\n",
       "      <th>181395</th>\n",
       "      <td>e2e5f328-b48b-46e0-9341-be6c066d788b</td>\n",
       "      <td>4fbdee34-327a-4d32-8d6e-32bcc8d15bfe</td>\n",
       "      <td>[-0.02983131,-0.0064043696,-0.03684028,-0.0049...</td>\n",
       "      <td>None</td>\n",
       "      <td>None</td>\n",
       "      <td>None</td>\n",
       "      <td>2024-12-11 08:57:58.390253</td>\n",
       "      <td>2025-02-11 03:03:42.184137</td>\n",
       "      <td>None</td>\n",
       "      <td>True</td>\n",
       "      <td>667cdbdea6b940c7269b7e5d</td>\n",
       "      <td>7</td>\n",
       "      <td>wordvector_BAAI</td>\n",
       "      <td>None</td>\n",
       "      <td>None</td>\n",
       "    </tr>\n",
       "    <tr>\n",
       "      <th>181396</th>\n",
       "      <td>bfb4eef0-072b-4f95-97d8-1a22458d2d29</td>\n",
       "      <td>4fbdee34-327a-4d32-8d6e-32bcc8d15bfe</td>\n",
       "      <td>[-0.02983131,-0.0064043696,-0.03684028,-0.0049...</td>\n",
       "      <td>None</td>\n",
       "      <td>None</td>\n",
       "      <td>None</td>\n",
       "      <td>2024-12-11 08:57:58.390253</td>\n",
       "      <td>2025-02-11 03:03:42.184137</td>\n",
       "      <td>None</td>\n",
       "      <td>True</td>\n",
       "      <td>667cdbdea6b940c7269b7e5d</td>\n",
       "      <td>10</td>\n",
       "      <td>wordvector_BAAI</td>\n",
       "      <td>None</td>\n",
       "      <td>None</td>\n",
       "    </tr>\n",
       "    <tr>\n",
       "      <th>181397</th>\n",
       "      <td>4b686278-5f6d-49c9-b195-3d2ec53edfa3</td>\n",
       "      <td>4fbdee34-327a-4d32-8d6e-32bcc8d15bfe</td>\n",
       "      <td>[-0.0014208279,0.000601236,-0.030220527,-0.022...</td>\n",
       "      <td>None</td>\n",
       "      <td>None</td>\n",
       "      <td>None</td>\n",
       "      <td>2024-12-11 08:57:58.390253</td>\n",
       "      <td>2025-02-11 03:03:42.184137</td>\n",
       "      <td>None</td>\n",
       "      <td>True</td>\n",
       "      <td>667cdbdea6b940c7269b7e5d</td>\n",
       "      <td>9</td>\n",
       "      <td>wordvector_BAAI</td>\n",
       "      <td>None</td>\n",
       "      <td>None</td>\n",
       "    </tr>\n",
       "  </tbody>\n",
       "</table>\n",
       "<p>181398 rows × 15 columns</p>\n",
       "</div>"
      ],
      "text/plain": [
       "                            intell_vector_id  \\\n",
       "0       55ca94ac-5a65-4c9b-a5d5-5923dd65abb1   \n",
       "1       754a5b38-988f-4691-9655-ff376c9a094e   \n",
       "2       847e973b-5d79-46df-b923-2e9718817c3a   \n",
       "3       b00be91c-89b8-4e53-9a02-f7a55d5717c6   \n",
       "4       624f1be0-d315-4aae-9395-144bcb06b583   \n",
       "...                                      ...   \n",
       "181393  462213ed-9ce2-496a-ac03-02c150a9e887   \n",
       "181394  df5361e8-d34f-4fcb-9ba2-a43d1628a1c6   \n",
       "181395  e2e5f328-b48b-46e0-9341-be6c066d788b   \n",
       "181396  bfb4eef0-072b-4f95-97d8-1a22458d2d29   \n",
       "181397  4b686278-5f6d-49c9-b195-3d2ec53edfa3   \n",
       "\n",
       "                                   intell_id  \\\n",
       "0       e3e122fe-0705-47d7-8c4b-2d2d9ecf6f7c   \n",
       "1       1f242d0e-1afd-4a28-b3c1-282d992c4f8e   \n",
       "2       1f242d0e-1afd-4a28-b3c1-282d992c4f8e   \n",
       "3       1f242d0e-1afd-4a28-b3c1-282d992c4f8e   \n",
       "4       1f242d0e-1afd-4a28-b3c1-282d992c4f8e   \n",
       "...                                      ...   \n",
       "181393  6c44e597-0c21-403c-920c-496bc3234b08   \n",
       "181394  6c44e597-0c21-403c-920c-496bc3234b08   \n",
       "181395  4fbdee34-327a-4d32-8d6e-32bcc8d15bfe   \n",
       "181396  4fbdee34-327a-4d32-8d6e-32bcc8d15bfe   \n",
       "181397  4fbdee34-327a-4d32-8d6e-32bcc8d15bfe   \n",
       "\n",
       "                                                   vector create_by update_by  \\\n",
       "0       [0.019757796,8.7733555e-05,-0.04523224,0.00233...      None      None   \n",
       "1       [-0.02983131,-0.0064043696,-0.03684028,-0.0049...      None      None   \n",
       "2       [-0.018671503,0.0038923493,-0.026133837,0.0085...      None      None   \n",
       "3       [-0.02983131,-0.0064043696,-0.03684028,-0.0049...      None      None   \n",
       "4       [-0.053423032,0.050187144,0.0013174798,-0.0127...      None      None   \n",
       "...                                                   ...       ...       ...   \n",
       "181393  [0.17933162,-0.22257842,0.010934065,0.07883968...      None      None   \n",
       "181394  [0.007742781,-0.0143486075,0.0041142707,-0.099...      None      None   \n",
       "181395  [-0.02983131,-0.0064043696,-0.03684028,-0.0049...      None      None   \n",
       "181396  [-0.02983131,-0.0064043696,-0.03684028,-0.0049...      None      None   \n",
       "181397  [-0.0014208279,0.000601236,-0.030220527,-0.022...      None      None   \n",
       "\n",
       "       delete_by                  create_at                  update_at  \\\n",
       "0           None 2024-12-11 08:57:58.390253 2025-02-11 03:03:42.184137   \n",
       "1           None 2024-12-11 08:57:58.390253 2025-02-11 03:03:42.184137   \n",
       "2           None 2024-12-11 08:57:58.390253 2025-02-11 03:03:42.184137   \n",
       "3           None 2024-12-11 08:57:58.390253 2025-02-11 03:03:42.184137   \n",
       "4           None 2024-12-11 08:57:58.390253 2025-02-11 03:03:42.184137   \n",
       "...          ...                        ...                        ...   \n",
       "181393      None 2024-07-02 09:43:20.973363 2024-08-26 04:45:15.007805   \n",
       "181394      None 2024-07-02 09:43:20.973363 2024-08-26 04:45:15.007805   \n",
       "181395      None 2024-12-11 08:57:58.390253 2025-02-11 03:03:42.184137   \n",
       "181396      None 2024-12-11 08:57:58.390253 2025-02-11 03:03:42.184137   \n",
       "181397      None 2024-12-11 08:57:58.390253 2025-02-11 03:03:42.184137   \n",
       "\n",
       "       delete_at  is_active                    nlp_id  intell_vector_type_id  \\\n",
       "0           None       True  667cdbc0a6b940c7269b7df7                      8   \n",
       "1           None       True  667cdbc1d1f3f17b3b335d34                     10   \n",
       "2           None       True  667cdbc1d1f3f17b3b335d34                      9   \n",
       "3           None       True  667cdbc1d1f3f17b3b335d34                      7   \n",
       "4           None       True  667cdbc1d1f3f17b3b335d34                      8   \n",
       "...          ...        ...                       ...                    ...   \n",
       "181393      None       True                      None                      2   \n",
       "181394      None       True                      None                      2   \n",
       "181395      None       True  667cdbdea6b940c7269b7e5d                      7   \n",
       "181396      None       True  667cdbdea6b940c7269b7e5d                     10   \n",
       "181397      None       True  667cdbdea6b940c7269b7e5d                      9   \n",
       "\n",
       "                  model_embedding  \\\n",
       "0                 wordvector_BAAI   \n",
       "1                 wordvector_BAAI   \n",
       "2                 wordvector_BAAI   \n",
       "3                 wordvector_BAAI   \n",
       "4                 wordvector_BAAI   \n",
       "...                           ...   \n",
       "181393  kornwtp/ConGen-model-XLMR   \n",
       "181394  kornwtp/ConGen-model-XLMR   \n",
       "181395            wordvector_BAAI   \n",
       "181396            wordvector_BAAI   \n",
       "181397            wordvector_BAAI   \n",
       "\n",
       "                                                 sentence system_name  \n",
       "0                                                    None        None  \n",
       "1                                                    None        None  \n",
       "2                                                    None        None  \n",
       "3                                                    None        None  \n",
       "4                                                    None        None  \n",
       "...                                                   ...         ...  \n",
       "181393  �เห็นถึงวิธีการของเกาหลีเหนือในการป้องปรามสงคร...         ibs  \n",
       "181394  ม่ทราบประเภทอย่างน้อย ๑ ลูก จากเรือดำน้ำ\\nของเ...         ibs  \n",
       "181395                                               None        None  \n",
       "181396                                               None        None  \n",
       "181397                                               None        None  \n",
       "\n",
       "[181398 rows x 15 columns]"
      ]
     },
     "execution_count": 47,
     "metadata": {},
     "output_type": "execute_result"
    }
   ],
   "source": [
    "rows = cur.fetchall()\n",
    "colnames = [desc[0] for desc in cur.description]\n",
    "df = pd.DataFrame(rows, columns=colnames)\n",
    "df"
   ]
  },
  {
   "cell_type": "code",
   "execution_count": 50,
   "metadata": {},
   "outputs": [],
   "source": [
    "mssql_database = \"Vector\"\n",
    "conn_str = f\"mssql+pymssql://{os.getenv('azure_username')}:{os.getenv('azure_password')}@{os.getenv('azure_server')}:{os.getenv('azure_port')}/{mssql_database}\"\n",
    "table_name = \"ibs_intell_vector\""
   ]
  },
  {
   "cell_type": "markdown",
   "metadata": {},
   "source": [
    "**Vector Cleansing**"
   ]
  },
  {
   "cell_type": "code",
   "execution_count": 158,
   "metadata": {},
   "outputs": [],
   "source": [
    "df['vector'] = df['vector'].apply(ast.literal_eval)"
   ]
  },
  {
   "cell_type": "code",
   "execution_count": 160,
   "metadata": {},
   "outputs": [],
   "source": [
    "def pad_vector(vector, target_length=1024):\n",
    "    if len(vector) < target_length:\n",
    "        # Pad with zeros\n",
    "        return vector + [0.0] * (target_length - len(vector))\n",
    "    elif len(vector) > target_length:\n",
    "        # Truncate to the desired length\n",
    "        return vector[:target_length]\n",
    "    else:\n",
    "        return vector"
   ]
  },
  {
   "cell_type": "code",
   "execution_count": 161,
   "metadata": {},
   "outputs": [],
   "source": [
    "df['vector'] = df['vector'].apply(pad_vector)"
   ]
  },
  {
   "cell_type": "code",
   "execution_count": 163,
   "metadata": {},
   "outputs": [],
   "source": [
    "def serialize_vector(v):\n",
    "    return json.dumps([round(float(x), 6) for x in v])  # Optional rounding\n"
   ]
  },
  {
   "cell_type": "code",
   "execution_count": null,
   "metadata": {},
   "outputs": [],
   "source": [
    "df['vector'] = df['vector'].apply(serialize_vector)"
   ]
  },
  {
   "cell_type": "markdown",
   "metadata": {},
   "source": [
    "**End of Vector Cleansing**"
   ]
  },
  {
   "cell_type": "code",
   "execution_count": 166,
   "metadata": {},
   "outputs": [
    {
     "name": "stdout",
     "output_type": "stream",
     "text": [
      "Data inserted successfully into the SQL Server table.\n"
     ]
    }
   ],
   "source": [
    "try:\n",
    "    # Create the SQLAlchemy engine\n",
    "    engine = create_engine(conn_str)\n",
    "\n",
    "    # Establish a connection explicitly using engine.connect()\n",
    "    with engine.connect() as conn:\n",
    "        # Start a transaction using conn.begin()\n",
    "        with conn.begin():\n",
    "\n",
    "            # Insert the DataFrame into the SQL Server table\n",
    "            df.to_sql(table_name, conn, schema='dbo', if_exists='append', index=False)\n",
    "            \n",
    "    print(\"Data inserted successfully into the SQL Server table.\")\n",
    "    # conn = conn.close()\n",
    "except Exception as e:\n",
    "    print(f\"An error occurred: {e}\")"
   ]
  }
 ],
 "metadata": {
  "kernelspec": {
   "display_name": "Python 3",
   "language": "python",
   "name": "python3"
  },
  "language_info": {
   "codemirror_mode": {
    "name": "ipython",
    "version": 3
   },
   "file_extension": ".py",
   "mimetype": "text/x-python",
   "name": "python",
   "nbconvert_exporter": "python",
   "pygments_lexer": "ipython3",
   "version": "3.8.10"
  }
 },
 "nbformat": 4,
 "nbformat_minor": 2
}
