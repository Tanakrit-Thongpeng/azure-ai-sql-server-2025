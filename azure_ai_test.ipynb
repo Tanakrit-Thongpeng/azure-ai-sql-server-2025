{
 "cells": [
  {
   "cell_type": "markdown",
   "metadata": {},
   "source": [
    "**Import library**"
   ]
  },
  {
   "cell_type": "code",
   "execution_count": 1,
   "metadata": {},
   "outputs": [],
   "source": [
    "from openai import AzureOpenAI\n",
    "import pyodbc\n",
    "import pandas as pd\n",
    "\n",
    "import os\n",
    "from dotenv import load_dotenv\n",
    "from pathlib import Path\n",
    "\n",
    "import re"
   ]
  },
  {
   "cell_type": "markdown",
   "metadata": {},
   "source": [
    "**Locate env path**"
   ]
  },
  {
   "cell_type": "code",
   "execution_count": 2,
   "metadata": {},
   "outputs": [
    {
     "name": "stdout",
     "output_type": "stream",
     "text": [
      "Script Path:\tc:\\Users\\Admins\\Desktop\\Tae\\work\\azure-sql-2025-tester\n",
      "env Path:\tc:\\Users\\Admins\\Desktop\\Tae\\work\\azure-sql-2025-tester\\.env\n",
      "Load env:\tTrue\n"
     ]
    }
   ],
   "source": [
    "script_dir = Path(os.getcwd())\n",
    "env_path = script_dir / '.env'\n",
    "load_dotenv(env_path)\n",
    "\n",
    "print(f'Script Path:\\t{script_dir}\\nenv Path:\\t{env_path}\\nLoad env:\\t{load_dotenv(env_path)}')"
   ]
  },
  {
   "cell_type": "code",
   "execution_count": 3,
   "metadata": {},
   "outputs": [],
   "source": [
    "server = os.getenv('azure_server')\n",
    "database = os.getenv('azure_database')\n",
    "username = os.getenv('azure_username')\n",
    "password = os.getenv('azure_password')"
   ]
  },
  {
   "cell_type": "markdown",
   "metadata": {},
   "source": [
    "**Connection Database**"
   ]
  },
  {
   "cell_type": "code",
   "execution_count": 4,
   "metadata": {},
   "outputs": [],
   "source": [
    "conn_str = f\"\"\"Driver={{ODBC Driver 17 for SQL Server}}; Server={server}; Database={database}; Uid={username}; Pwd={password}; Encrypt=yes; TrustServerCertificate=no; Connection Timeout=30;\"\"\""
   ]
  },
  {
   "cell_type": "code",
   "execution_count": 5,
   "metadata": {},
   "outputs": [
    {
     "data": {
      "text/plain": [
       "<pyodbc.Connection at 0x2c7c6502e00>"
      ]
     },
     "execution_count": 5,
     "metadata": {},
     "output_type": "execute_result"
    }
   ],
   "source": [
    "conn = pyodbc.connect(conn_str)\n",
    "conn"
   ]
  },
  {
   "cell_type": "markdown",
   "metadata": {},
   "source": [
    "**Ai Prompt**"
   ]
  },
  {
   "cell_type": "code",
   "execution_count": 6,
   "metadata": {},
   "outputs": [
    {
     "name": "stderr",
     "output_type": "stream",
     "text": [
      "C:\\Users\\Admins\\AppData\\Local\\Temp\\ipykernel_24360\\274758580.py:7: UserWarning: pandas only supports SQLAlchemy connectable (engine/connection) or database string URI or sqlite3 DBAPI2 connection. Other DBAPI2 objects are not tested. Please consider using SQLAlchemy.\n",
      "  schema_df = pd.read_sql_query(schema_query, conn)\n"
     ]
    }
   ],
   "source": [
    "schema_query = \"\"\"\n",
    "SELECT TABLE_SCHEMA, TABLE_NAME, COLUMN_NAME, DATA_TYPE\n",
    "FROM INFORMATION_SCHEMA.COLUMNS\n",
    "ORDER BY TABLE_SCHEMA, TABLE_NAME, ORDINAL_POSITION;\n",
    "\"\"\"\n",
    "\n",
    "schema_df = pd.read_sql_query(schema_query, conn)\n",
    "\n",
    "schema_text = \"\"\n",
    "for (schema, table), group in schema_df.groupby(['TABLE_SCHEMA', 'TABLE_NAME']):\n",
    "    columns = \", \".join(f\"{row.COLUMN_NAME} ({row.DATA_TYPE})\" for _, row in group.iterrows())\n",
    "    schema_text += f\"Table {schema}.{table}: {columns}\\n\"\n"
   ]
  },
  {
   "cell_type": "code",
   "execution_count": 7,
   "metadata": {},
   "outputs": [],
   "source": [
    "user_prompt = \"I want to know the top 10 most spend customer in the database.\""
   ]
  },
  {
   "cell_type": "code",
   "execution_count": 8,
   "metadata": {},
   "outputs": [],
   "source": [
    "model_name = os.getenv(\"openai_model_name\")\n",
    "\n",
    "client = AzureOpenAI(\n",
    "    api_key=os.getenv(\"openai_model_api_key\"),\n",
    "    api_version=os.getenv(\"openai_api_version\"),\n",
    "    azure_endpoint=os.getenv(\"openai_api_endpoint\")\n",
    ")"
   ]
  },
  {
   "cell_type": "code",
   "execution_count": 9,
   "metadata": {},
   "outputs": [],
   "source": [
    "system_message = f\"\"\"\n",
    "You are a helpful assistant that writes SQL Server queries.\n",
    "Here is the database schema:\n",
    "\n",
    "{schema_text}\n",
    "\"\"\""
   ]
  },
  {
   "cell_type": "code",
   "execution_count": 10,
   "metadata": {},
   "outputs": [],
   "source": [
    "response = client.chat.completions.create(\n",
    "    model=model_name,\n",
    "    messages=[\n",
    "        {\"role\": \"system\", \"content\": system_message},\n",
    "        {\"role\": \"user\", \"content\": f\"Write a SQL Server query for this: {user_prompt}\"}\n",
    "    ]\n",
    ")"
   ]
  },
  {
   "cell_type": "markdown",
   "metadata": {},
   "source": [
    "**Generate Output**"
   ]
  },
  {
   "cell_type": "code",
   "execution_count": 11,
   "metadata": {},
   "outputs": [
    {
     "name": "stdout",
     "output_type": "stream",
     "text": [
      "Generated SQL:\n",
      " Sure! You can use the following SQL query to find the top 10 highest spending customers in the database:\n",
      "\n",
      "```sql\n",
      "SELECT TOP 10\n",
      "    c.CustomerID,\n",
      "    c.FirstName,\n",
      "    c.LastName,\n",
      "    SUM(od.LineTotal) AS TotalSpent\n",
      "FROM SalesLT.Customer AS c\n",
      "JOIN SalesLT.SalesOrderHeader AS o ON c.CustomerID = o.CustomerID\n",
      "JOIN SalesLT.SalesOrderDetail AS od ON o.SalesOrderID = od.SalesOrderID\n",
      "GROUP BY c.CustomerID, c.FirstName, c.LastName\n",
      "ORDER BY TotalSpent DESC;\n",
      "```\n",
      "\n",
      "This query calculates the total amount spent by each customer by joining the `Customer`, `SalesOrderHeader`, and `SalesOrderDetail` tables. Then, it groups the results by customer and orders them in descending order of total amount spent. The `TOP 10` keyword ensures that only the top 10 highest spending customers are returned in the result set.\n"
     ]
    }
   ],
   "source": [
    "generated_sql = response.choices[0].message.content\n",
    "print(\"Generated SQL:\\n\", generated_sql)"
   ]
  },
  {
   "cell_type": "code",
   "execution_count": 12,
   "metadata": {},
   "outputs": [
    {
     "name": "stdout",
     "output_type": "stream",
     "text": [
      "SELECT TOP 10\n",
      "    c.CustomerID,\n",
      "    c.FirstName,\n",
      "    c.LastName,\n",
      "    SUM(od.LineTotal) AS TotalSpent\n",
      "FROM SalesLT.Customer AS c\n",
      "JOIN SalesLT.SalesOrderHeader AS o ON c.CustomerID = o.CustomerID\n",
      "JOIN SalesLT.SalesOrderDetail AS od ON o.SalesOrderID = od.SalesOrderID\n",
      "GROUP BY c.CustomerID, c.FirstName, c.LastName\n",
      "ORDER BY TotalSpent DESC;\n"
     ]
    }
   ],
   "source": [
    "# Extract just the SQL code between ```sql and ```\n",
    "sql_code_blocks = re.findall(r\"```sql\\s*(.*?)```\", response.choices[0].message.content, re.DOTALL)\n",
    "\n",
    "if sql_code_blocks:\n",
    "    generated_sql = sql_code_blocks[0].strip()\n",
    "else:\n",
    "    generated_sql = response.choices[0].message.content.strip()  # fallback\n",
    "\n",
    "print(generated_sql)"
   ]
  },
  {
   "cell_type": "code",
   "execution_count": 13,
   "metadata": {},
   "outputs": [],
   "source": [
    "query = f\"\"\"{generated_sql}\"\"\""
   ]
  },
  {
   "cell_type": "markdown",
   "metadata": {},
   "source": [
    "**Final Dataframe**"
   ]
  },
  {
   "cell_type": "code",
   "execution_count": 14,
   "metadata": {},
   "outputs": [
    {
     "name": "stdout",
     "output_type": "stream",
     "text": [
      "Query Results:\n"
     ]
    },
    {
     "name": "stderr",
     "output_type": "stream",
     "text": [
      "C:\\Users\\Admins\\AppData\\Local\\Temp\\ipykernel_24360\\3385489827.py:2: UserWarning: pandas only supports SQLAlchemy connectable (engine/connection) or database string URI or sqlite3 DBAPI2 connection. Other DBAPI2 objects are not tested. Please consider using SQLAlchemy.\n",
      "  df = pd.read_sql_query(query, conn)\n"
     ]
    },
    {
     "data": {
      "text/html": [
       "<div>\n",
       "<style scoped>\n",
       "    .dataframe tbody tr th:only-of-type {\n",
       "        vertical-align: middle;\n",
       "    }\n",
       "\n",
       "    .dataframe tbody tr th {\n",
       "        vertical-align: top;\n",
       "    }\n",
       "\n",
       "    .dataframe thead th {\n",
       "        text-align: right;\n",
       "    }\n",
       "</style>\n",
       "<table border=\"1\" class=\"dataframe\">\n",
       "  <thead>\n",
       "    <tr style=\"text-align: right;\">\n",
       "      <th></th>\n",
       "      <th>CustomerID</th>\n",
       "      <th>FirstName</th>\n",
       "      <th>LastName</th>\n",
       "      <th>TotalSpent</th>\n",
       "    </tr>\n",
       "  </thead>\n",
       "  <tbody>\n",
       "    <tr>\n",
       "      <th>0</th>\n",
       "      <td>29736</td>\n",
       "      <td>Terry</td>\n",
       "      <td>Eminhizer</td>\n",
       "      <td>89869.276314</td>\n",
       "    </tr>\n",
       "    <tr>\n",
       "      <th>1</th>\n",
       "      <td>30050</td>\n",
       "      <td>Krishna</td>\n",
       "      <td>Sunkammurali</td>\n",
       "      <td>79589.616024</td>\n",
       "    </tr>\n",
       "    <tr>\n",
       "      <th>2</th>\n",
       "      <td>29546</td>\n",
       "      <td>Christopher</td>\n",
       "      <td>Beck</td>\n",
       "      <td>74160.228000</td>\n",
       "    </tr>\n",
       "    <tr>\n",
       "      <th>3</th>\n",
       "      <td>29957</td>\n",
       "      <td>Kevin</td>\n",
       "      <td>Liu</td>\n",
       "      <td>65683.367986</td>\n",
       "    </tr>\n",
       "    <tr>\n",
       "      <th>4</th>\n",
       "      <td>29796</td>\n",
       "      <td>Jon</td>\n",
       "      <td>Grande</td>\n",
       "      <td>65123.463418</td>\n",
       "    </tr>\n",
       "    <tr>\n",
       "      <th>5</th>\n",
       "      <td>29929</td>\n",
       "      <td>Jeffrey</td>\n",
       "      <td>Kurtz</td>\n",
       "      <td>59894.209200</td>\n",
       "    </tr>\n",
       "    <tr>\n",
       "      <th>6</th>\n",
       "      <td>29932</td>\n",
       "      <td>Rebecca</td>\n",
       "      <td>Laszlo</td>\n",
       "      <td>53248.692000</td>\n",
       "    </tr>\n",
       "    <tr>\n",
       "      <th>7</th>\n",
       "      <td>29660</td>\n",
       "      <td>Anthony</td>\n",
       "      <td>Chor</td>\n",
       "      <td>47848.026000</td>\n",
       "    </tr>\n",
       "    <tr>\n",
       "      <th>8</th>\n",
       "      <td>29938</td>\n",
       "      <td>Frank</td>\n",
       "      <td>Campbell</td>\n",
       "      <td>34118.535600</td>\n",
       "    </tr>\n",
       "    <tr>\n",
       "      <th>9</th>\n",
       "      <td>29485</td>\n",
       "      <td>Catherine</td>\n",
       "      <td>Abel</td>\n",
       "      <td>33319.986000</td>\n",
       "    </tr>\n",
       "  </tbody>\n",
       "</table>\n",
       "</div>"
      ],
      "text/plain": [
       "   CustomerID    FirstName      LastName    TotalSpent\n",
       "0       29736        Terry     Eminhizer  89869.276314\n",
       "1       30050      Krishna  Sunkammurali  79589.616024\n",
       "2       29546  Christopher          Beck  74160.228000\n",
       "3       29957        Kevin           Liu  65683.367986\n",
       "4       29796          Jon        Grande  65123.463418\n",
       "5       29929      Jeffrey         Kurtz  59894.209200\n",
       "6       29932      Rebecca        Laszlo  53248.692000\n",
       "7       29660      Anthony          Chor  47848.026000\n",
       "8       29938        Frank      Campbell  34118.535600\n",
       "9       29485    Catherine          Abel  33319.986000"
      ]
     },
     "metadata": {},
     "output_type": "display_data"
    }
   ],
   "source": [
    "try:\n",
    "    df = pd.read_sql_query(query, conn)\n",
    "    print(\"Query Results:\")\n",
    "    display(df)\n",
    "except Exception as e:\n",
    "    print(\"Error running the query:\", e)"
   ]
  }
 ],
 "metadata": {
  "kernelspec": {
   "display_name": "Python 3",
   "language": "python",
   "name": "python3"
  },
  "language_info": {
   "codemirror_mode": {
    "name": "ipython",
    "version": 3
   },
   "file_extension": ".py",
   "mimetype": "text/x-python",
   "name": "python",
   "nbconvert_exporter": "python",
   "pygments_lexer": "ipython3",
   "version": "3.8.10"
  }
 },
 "nbformat": 4,
 "nbformat_minor": 2
}
