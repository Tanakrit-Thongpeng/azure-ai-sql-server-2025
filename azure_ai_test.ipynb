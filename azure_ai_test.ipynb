{
 "cells": [
  {
   "cell_type": "markdown",
   "metadata": {},
   "source": [
    "**Import library**"
   ]
  },
  {
   "cell_type": "code",
   "execution_count": 107,
   "metadata": {},
   "outputs": [],
   "source": [
    "from openai import AzureOpenAI\n",
    "import pyodbc\n",
    "import pandas as pd\n",
    "\n",
    "import os\n",
    "from dotenv import load_dotenv\n",
    "from pathlib import Path\n",
    "\n",
    "import re\n",
    "from datetime import datetime"
   ]
  },
  {
   "cell_type": "markdown",
   "metadata": {},
   "source": [
    "**Locate env path**"
   ]
  },
  {
   "cell_type": "code",
   "execution_count": 108,
   "metadata": {},
   "outputs": [
    {
     "name": "stdout",
     "output_type": "stream",
     "text": [
      "Script Path:\tc:\\Users\\Admins\\Desktop\\Tae\\work\\azure-sql-2025-tester\n",
      "env Path:\tc:\\Users\\Admins\\Desktop\\Tae\\work\\azure-sql-2025-tester\\.env\n",
      "Load env:\tTrue\n"
     ]
    }
   ],
   "source": [
    "script_dir = Path(os.getcwd())\n",
    "env_path = script_dir / '.env'\n",
    "load_dotenv(env_path)\n",
    "\n",
    "print(f'Script Path:\\t{script_dir}\\nenv Path:\\t{env_path}\\nLoad env:\\t{load_dotenv(env_path)}')"
   ]
  },
  {
   "cell_type": "code",
   "execution_count": 109,
   "metadata": {},
   "outputs": [],
   "source": [
    "server = os.getenv('azure_server')\n",
    "database = os.getenv('azure_database')\n",
    "username = os.getenv('azure_username')\n",
    "password = os.getenv('azure_password')"
   ]
  },
  {
   "cell_type": "markdown",
   "metadata": {},
   "source": [
    "**Connection Database**"
   ]
  },
  {
   "cell_type": "code",
   "execution_count": 110,
   "metadata": {},
   "outputs": [],
   "source": [
    "conn_str = f\"\"\"Driver={{ODBC Driver 17 for SQL Server}}; Server={server}; Database={database}; Uid={username}; Pwd={password}; Encrypt=yes; TrustServerCertificate=no; Connection Timeout=30;\"\"\""
   ]
  },
  {
   "cell_type": "code",
   "execution_count": 111,
   "metadata": {},
   "outputs": [
    {
     "data": {
      "text/plain": [
       "<pyodbc.Connection at 0x1d3a4661440>"
      ]
     },
     "execution_count": 111,
     "metadata": {},
     "output_type": "execute_result"
    }
   ],
   "source": [
    "conn = pyodbc.connect(conn_str)\n",
    "conn"
   ]
  },
  {
   "cell_type": "markdown",
   "metadata": {},
   "source": [
    "**Ai Prompt**"
   ]
  },
  {
   "cell_type": "code",
   "execution_count": 112,
   "metadata": {},
   "outputs": [
    {
     "name": "stdout",
     "output_type": "stream",
     "text": [
      "-- =============================================\n",
      "-- Author:\t\tTANAKRIT-THONGPENG\n",
      "-- Create date: 27/06/2025\n",
      "-- Description:\tSCHEMA QUERY\n",
      "-- =============================================\n",
      "\n",
      "SELECT TABLE_SCHEMA, TABLE_NAME, COLUMN_NAME, DATA_TYPE\n",
      "FROM INFORMATION_SCHEMA.COLUMNS\n",
      "ORDER BY TABLE_SCHEMA, TABLE_NAME, ORDINAL_POSITION;\n"
     ]
    }
   ],
   "source": [
    "# Path to your Schema.sql file\n",
    "sql_file_path = script_dir / \"sql_script\" / \"Schema.sql\"\n",
    "\n",
    "# Read the file content into a Python string\n",
    "with open(sql_file_path, 'r', encoding='utf-8') as file:\n",
    "    schema_query = file.read()\n",
    "\n",
    "print(schema_query)"
   ]
  },
  {
   "cell_type": "code",
   "execution_count": 113,
   "metadata": {},
   "outputs": [
    {
     "name": "stderr",
     "output_type": "stream",
     "text": [
      "C:\\Users\\Admins\\AppData\\Local\\Temp\\ipykernel_11408\\203394917.py:1: UserWarning: pandas only supports SQLAlchemy connectable (engine/connection) or database string URI or sqlite3 DBAPI2 connection. Other DBAPI2 objects are not tested. Please consider using SQLAlchemy.\n",
      "  schema_df = pd.read_sql_query(schema_query, conn)\n"
     ]
    }
   ],
   "source": [
    "schema_df = pd.read_sql_query(schema_query, conn)\n",
    "\n",
    "schema_text = \"\"\n",
    "for (schema, table), group in schema_df.groupby(['TABLE_SCHEMA', 'TABLE_NAME']):\n",
    "    columns = \", \".join(f\"{row.COLUMN_NAME} ({row.DATA_TYPE})\" for _, row in group.iterrows())\n",
    "    schema_text += f\"Table {schema}.{table}: {columns}\\n\"\n"
   ]
  },
  {
   "cell_type": "code",
   "execution_count": 114,
   "metadata": {},
   "outputs": [],
   "source": [
    "user_prompt = \"I want to know which products is selling the most\""
   ]
  },
  {
   "cell_type": "code",
   "execution_count": 115,
   "metadata": {},
   "outputs": [],
   "source": [
    "model_name = os.getenv(\"openai_model_name\")\n",
    "\n",
    "client = AzureOpenAI(\n",
    "    api_key=os.getenv(\"openai_model_api_key\"),\n",
    "    api_version=os.getenv(\"openai_api_version\"),\n",
    "    azure_endpoint=os.getenv(\"openai_api_endpoint\")\n",
    ")"
   ]
  },
  {
   "cell_type": "code",
   "execution_count": 116,
   "metadata": {},
   "outputs": [],
   "source": [
    "system_message = f\"\"\"\n",
    "You are a helpful assistant that writes SQL Server queries.\n",
    "Here is the database schema:\n",
    "\n",
    "{schema_text}\n",
    "\"\"\""
   ]
  },
  {
   "cell_type": "code",
   "execution_count": 117,
   "metadata": {},
   "outputs": [],
   "source": [
    "response = client.chat.completions.create(\n",
    "    model=model_name,\n",
    "    messages=[\n",
    "        {\"role\": \"system\", \"content\": system_message},\n",
    "        {\"role\": \"user\", \"content\": f\"Write a SQL Server query for this: {user_prompt}\"}\n",
    "    ]\n",
    ")"
   ]
  },
  {
   "cell_type": "markdown",
   "metadata": {},
   "source": [
    "**Generate Output**"
   ]
  },
  {
   "cell_type": "code",
   "execution_count": 118,
   "metadata": {},
   "outputs": [
    {
     "name": "stdout",
     "output_type": "stream",
     "text": [
      "Generated SQL:\n",
      " To find out which products are selling the most, we can use the following SQL query:\n",
      "\n",
      "```sql\n",
      "SELECT TOP 1 \n",
      "    P.Name AS ProductName, \n",
      "    SUM(OD.OrderQty) AS TotalQuantitySold\n",
      "FROM \n",
      "    SalesLT.Product AS P\n",
      "JOIN \n",
      "    SalesLT.SalesOrderDetail AS OD ON P.ProductID = OD.ProductID\n",
      "GROUP BY \n",
      "    P.ProductID, P.Name\n",
      "ORDER BY \n",
      "    SUM(OD.OrderQty) DESC;\n",
      "```\n",
      "\n",
      "This query selects the product with the highest total quantity sold by joining the `Product` and `SalesOrderDetail` tables, grouping by product, summing the order quantities, and then ordering the results by total quantity sold in descending order. The `TOP 1` keyword limits the results to only the product that sold the most.\n"
     ]
    }
   ],
   "source": [
    "generated_sql = response.choices[0].message.content\n",
    "print(\"Generated SQL:\\n\", generated_sql)"
   ]
  },
  {
   "cell_type": "code",
   "execution_count": 119,
   "metadata": {},
   "outputs": [
    {
     "name": "stdout",
     "output_type": "stream",
     "text": [
      "SELECT TOP 1 \n",
      "    P.Name AS ProductName, \n",
      "    SUM(OD.OrderQty) AS TotalQuantitySold\n",
      "FROM \n",
      "    SalesLT.Product AS P\n",
      "JOIN \n",
      "    SalesLT.SalesOrderDetail AS OD ON P.ProductID = OD.ProductID\n",
      "GROUP BY \n",
      "    P.ProductID, P.Name\n",
      "ORDER BY \n",
      "    SUM(OD.OrderQty) DESC;\n",
      "\n",
      "This query selects the product with the highest total quantity sold by joining the `Product` and `SalesOrderDetail` tables, grouping by product, summing the order quantities, and then ordering the results by total quantity sold in descending order. The `TOP 1` keyword limits the results to only the product that sold the most.\n"
     ]
    }
   ],
   "source": [
    "# Extract just the SQL code between ```sql and ```\n",
    "sql_code_blocks = re.findall(r\"```sql\\s*(.*?)```\", response.choices[0].message.content, re.DOTALL)\n",
    "description_blocks = re.split(r\"```(?:sql)?[\\s\\S]*?```\", response.choices[0].message.content)\n",
    "\n",
    "if sql_code_blocks:\n",
    "    generated_sql = sql_code_blocks[0].strip()\n",
    "    generated_description = description_blocks[1].strip()\n",
    "else:\n",
    "    generated_sql = response.choices[0].message.content.strip()  # fallback\n",
    "    generated_description = response.choices[0].message.content.strip()  # fallback\n",
    "\n",
    "print(f\"{generated_sql}\\n\\n{generated_description}\")"
   ]
  },
  {
   "cell_type": "code",
   "execution_count": 120,
   "metadata": {},
   "outputs": [],
   "source": [
    "query = f\"\"\"{generated_sql}\"\"\""
   ]
  },
  {
   "cell_type": "markdown",
   "metadata": {},
   "source": [
    "**Final Dataframe**"
   ]
  },
  {
   "cell_type": "code",
   "execution_count": 121,
   "metadata": {},
   "outputs": [
    {
     "name": "stdout",
     "output_type": "stream",
     "text": [
      "Query Results:\n"
     ]
    },
    {
     "name": "stderr",
     "output_type": "stream",
     "text": [
      "C:\\Users\\Admins\\AppData\\Local\\Temp\\ipykernel_11408\\3385489827.py:2: UserWarning: pandas only supports SQLAlchemy connectable (engine/connection) or database string URI or sqlite3 DBAPI2 connection. Other DBAPI2 objects are not tested. Please consider using SQLAlchemy.\n",
      "  df = pd.read_sql_query(query, conn)\n"
     ]
    },
    {
     "data": {
      "text/html": [
       "<div>\n",
       "<style scoped>\n",
       "    .dataframe tbody tr th:only-of-type {\n",
       "        vertical-align: middle;\n",
       "    }\n",
       "\n",
       "    .dataframe tbody tr th {\n",
       "        vertical-align: top;\n",
       "    }\n",
       "\n",
       "    .dataframe thead th {\n",
       "        text-align: right;\n",
       "    }\n",
       "</style>\n",
       "<table border=\"1\" class=\"dataframe\">\n",
       "  <thead>\n",
       "    <tr style=\"text-align: right;\">\n",
       "      <th></th>\n",
       "      <th>ProductName</th>\n",
       "      <th>TotalQuantitySold</th>\n",
       "    </tr>\n",
       "  </thead>\n",
       "  <tbody>\n",
       "    <tr>\n",
       "      <th>0</th>\n",
       "      <td>Classic Vest, S</td>\n",
       "      <td>87</td>\n",
       "    </tr>\n",
       "  </tbody>\n",
       "</table>\n",
       "</div>"
      ],
      "text/plain": [
       "       ProductName  TotalQuantitySold\n",
       "0  Classic Vest, S                 87"
      ]
     },
     "metadata": {},
     "output_type": "display_data"
    }
   ],
   "source": [
    "try:\n",
    "    df = pd.read_sql_query(query, conn)\n",
    "    print(\"Query Results:\")\n",
    "    display(df)\n",
    "except Exception as e:\n",
    "    print(\"Error running the query:\", e)"
   ]
  },
  {
   "cell_type": "markdown",
   "metadata": {},
   "source": [
    "**Create SQL Script from Output**"
   ]
  },
  {
   "cell_type": "code",
   "execution_count": 122,
   "metadata": {},
   "outputs": [],
   "source": [
    "Author = \"AI Generated SQL Query\"\n",
    "\n",
    "day = datetime.now().day\n",
    "month = datetime.now().month\n",
    "year = datetime.now().year\n",
    "date_obj = datetime(year, month, day)\n",
    "create_date = date_obj.strftime(\"%d/%m/%Y\")\n",
    "\n",
    "description = generated_description\n"
   ]
  },
  {
   "cell_type": "code",
   "execution_count": 123,
   "metadata": {},
   "outputs": [],
   "source": [
    "header = f\"\"\"\n",
    "-- =============================================\n",
    "-- Author:\t\t{Author}\n",
    "-- Create date: {create_date}\n",
    "-- Description:\t{description}\n",
    "-- =============================================\n",
    "\"\"\""
   ]
  },
  {
   "cell_type": "code",
   "execution_count": 124,
   "metadata": {},
   "outputs": [
    {
     "data": {
      "text/plain": [
       "'\\n-- =============================================\\n-- Author:\\t\\tAI Generated SQL Query\\n-- Create date: 27/06/2025\\n-- Description:\\tThis query selects the product with the highest total quantity sold by joining the `Product` and `SalesOrderDetail` tables, grouping by product, summing the order quantities, and then ordering the results by total quantity sold in descending order. The `TOP 1` keyword limits the results to only the product that sold the most.\\n-- =============================================\\n'"
      ]
     },
     "execution_count": 124,
     "metadata": {},
     "output_type": "execute_result"
    }
   ],
   "source": [
    "header"
   ]
  },
  {
   "cell_type": "code",
   "execution_count": 125,
   "metadata": {},
   "outputs": [],
   "source": [
    "query_string = f\"\"\"{generated_sql}\"\"\""
   ]
  },
  {
   "cell_type": "code",
   "execution_count": 126,
   "metadata": {},
   "outputs": [
    {
     "data": {
      "text/plain": [
       "'SELECT TOP 1 \\n    P.Name AS ProductName, \\n    SUM(OD.OrderQty) AS TotalQuantitySold\\nFROM \\n    SalesLT.Product AS P\\nJOIN \\n    SalesLT.SalesOrderDetail AS OD ON P.ProductID = OD.ProductID\\nGROUP BY \\n    P.ProductID, P.Name\\nORDER BY \\n    SUM(OD.OrderQty) DESC;'"
      ]
     },
     "execution_count": 126,
     "metadata": {},
     "output_type": "execute_result"
    }
   ],
   "source": [
    "query_string"
   ]
  },
  {
   "cell_type": "code",
   "execution_count": 127,
   "metadata": {},
   "outputs": [],
   "source": [
    "def find_latest_script_number(folder_path):\n",
    "    folder = Path(folder_path)\n",
    "    max_number = 0\n",
    "\n",
    "    # Pattern to match filenames like Script-<number>.sql\n",
    "    pattern = re.compile(r\"Script-(\\d+)\\.sql\", re.IGNORECASE)\n",
    "\n",
    "    for file in folder.glob(\"Script-*.sql\"):\n",
    "        match = pattern.match(file.name)\n",
    "        if match:\n",
    "            number = int(match.group(1))\n",
    "            if number > max_number:\n",
    "                max_number = number\n",
    "\n",
    "    return max_number"
   ]
  },
  {
   "cell_type": "code",
   "execution_count": 128,
   "metadata": {},
   "outputs": [
    {
     "name": "stdout",
     "output_type": "stream",
     "text": [
      "Latest script number: 2\n"
     ]
    }
   ],
   "source": [
    "folder_path = script_dir / \"sql_script\"\n",
    "latest_number = find_latest_script_number(folder_path)\n",
    "print(\"Latest script number:\", latest_number)"
   ]
  },
  {
   "cell_type": "code",
   "execution_count": 129,
   "metadata": {},
   "outputs": [],
   "source": [
    "output_path = script_dir / \"sql_script\" / f\"Script-{latest_number+1}.sql\""
   ]
  },
  {
   "cell_type": "code",
   "execution_count": 130,
   "metadata": {},
   "outputs": [],
   "source": [
    "# Make sure the directory exists, create if not\n",
    "output_path.parent.mkdir(parents=True, exist_ok=True)"
   ]
  },
  {
   "cell_type": "code",
   "execution_count": 131,
   "metadata": {},
   "outputs": [
    {
     "name": "stdout",
     "output_type": "stream",
     "text": [
      "SQL file saved to: c:\\Users\\Admins\\Desktop\\Tae\\work\\azure-sql-2025-tester\\sql_script\\Script-3.sql\n"
     ]
    }
   ],
   "source": [
    "full_sql = header + \"\\n\" + query_string\n",
    "\n",
    "# Write to file\n",
    "with open(output_path, \"w\", encoding=\"utf-8\") as f:\n",
    "    f.write(full_sql)\n",
    "\n",
    "print(f\"SQL file saved to: {output_path}\")"
   ]
  }
 ],
 "metadata": {
  "kernelspec": {
   "display_name": "Python 3",
   "language": "python",
   "name": "python3"
  },
  "language_info": {
   "codemirror_mode": {
    "name": "ipython",
    "version": 3
   },
   "file_extension": ".py",
   "mimetype": "text/x-python",
   "name": "python",
   "nbconvert_exporter": "python",
   "pygments_lexer": "ipython3",
   "version": "3.8.10"
  }
 },
 "nbformat": 4,
 "nbformat_minor": 2
}
