{
 "cells": [
  {
   "cell_type": "markdown",
   "metadata": {},
   "source": [
    "**Import library**"
   ]
  },
  {
   "cell_type": "code",
   "execution_count": 1,
   "metadata": {},
   "outputs": [],
   "source": [
    "from openai import AzureOpenAI\n",
    "import pyodbc\n",
    "import pandas as pd\n",
    "\n",
    "import os\n",
    "from dotenv import load_dotenv\n",
    "from pathlib import Path\n",
    "\n",
    "import re\n",
    "from datetime import datetime"
   ]
  },
  {
   "cell_type": "markdown",
   "metadata": {},
   "source": [
    "**Locate env path**"
   ]
  },
  {
   "cell_type": "code",
   "execution_count": 2,
   "metadata": {},
   "outputs": [
    {
     "name": "stdout",
     "output_type": "stream",
     "text": [
      "Script Path:\tc:\\Users\\Admins\\Desktop\\Tae\\work\\azure-sql-2025-tester\n",
      "env Path:\tc:\\Users\\Admins\\Desktop\\Tae\\work\\azure-sql-2025-tester\\.env\n",
      "Load env:\tTrue\n"
     ]
    }
   ],
   "source": [
    "script_dir = Path(os.getcwd())\n",
    "env_path = script_dir / '.env'\n",
    "load_dotenv(env_path)\n",
    "\n",
    "print(f'Script Path:\\t{script_dir}\\nenv Path:\\t{env_path}\\nLoad env:\\t{load_dotenv(env_path)}')"
   ]
  },
  {
   "cell_type": "code",
   "execution_count": 3,
   "metadata": {},
   "outputs": [],
   "source": [
    "server = os.getenv('azure_server')\n",
    "database = os.getenv('azure_database')\n",
    "username = os.getenv('azure_username')\n",
    "password = os.getenv('azure_password')"
   ]
  },
  {
   "cell_type": "markdown",
   "metadata": {},
   "source": [
    "**Connection Database**"
   ]
  },
  {
   "cell_type": "code",
   "execution_count": 4,
   "metadata": {},
   "outputs": [],
   "source": [
    "conn_str = f\"\"\"Driver={{ODBC Driver 17 for SQL Server}}; Server={server}; Database={database}; Uid={username}; Pwd={password}; Encrypt=yes; TrustServerCertificate=no; Connection Timeout=30;\"\"\""
   ]
  },
  {
   "cell_type": "code",
   "execution_count": 5,
   "metadata": {},
   "outputs": [
    {
     "data": {
      "text/plain": [
       "<pyodbc.Connection at 0x14935672e00>"
      ]
     },
     "execution_count": 5,
     "metadata": {},
     "output_type": "execute_result"
    }
   ],
   "source": [
    "conn = pyodbc.connect(conn_str)\n",
    "conn"
   ]
  },
  {
   "cell_type": "markdown",
   "metadata": {},
   "source": [
    "**Ai Prompt**"
   ]
  },
  {
   "cell_type": "code",
   "execution_count": 6,
   "metadata": {},
   "outputs": [
    {
     "name": "stdout",
     "output_type": "stream",
     "text": [
      "-- =============================================\n",
      "-- Author:\t\tTANAKRIT-THONGPENG\n",
      "-- Create date: 27/06/2025\n",
      "-- Description:\tSCHEMA QUERY\n",
      "-- =============================================\n",
      "\n",
      "SELECT \n",
      "    TABLE_CATALOG, \n",
      "    TABLE_SCHEMA, \n",
      "    TABLE_NAME, \n",
      "    COLUMN_NAME, \n",
      "    DATA_TYPE\n",
      "FROM \n",
      "    INFORMATION_SCHEMA.COLUMNS\n",
      "ORDER BY \n",
      "    TABLE_SCHEMA, TABLE_NAME, ORDINAL_POSITION;\n"
     ]
    }
   ],
   "source": [
    "# Path to your Schema.sql file\n",
    "sql_file_path = script_dir / \"sql_script\" / \"Schema.sql\"\n",
    "\n",
    "# Read the file content into a Python string\n",
    "with open(sql_file_path, 'r', encoding='utf-8') as file:\n",
    "    schema_query = file.read()\n",
    "\n",
    "print(schema_query)"
   ]
  },
  {
   "cell_type": "code",
   "execution_count": 7,
   "metadata": {},
   "outputs": [
    {
     "name": "stderr",
     "output_type": "stream",
     "text": [
      "C:\\Users\\Admins\\AppData\\Local\\Temp\\ipykernel_11092\\3743000493.py:4: UserWarning: pandas only supports SQLAlchemy connectable (engine/connection) or database string URI or sqlite3 DBAPI2 connection. Other DBAPI2 objects are not tested. Please consider using SQLAlchemy.\n",
      "  schema_df = pd.read_sql_query(schema_query, conn)\n"
     ]
    }
   ],
   "source": [
    "database = 'SalesLT'\n",
    "schema = 'dbo'\n",
    "\n",
    "schema_df = pd.read_sql_query(schema_query, conn)\n",
    "schema_df = schema_df[schema_df['TABLE_CATALOG'] == f'{database}']\n",
    "schema_df = schema_df[schema_df['TABLE_SCHEMA'] == f'{schema}']\n",
    "\n",
    "schema_text = \"\"\n",
    "for (schema, table), group in schema_df.groupby(['TABLE_SCHEMA', 'TABLE_NAME']):\n",
    "    columns = \", \".join(f\"{row.COLUMN_NAME} ({row.DATA_TYPE})\" for _, row in group.iterrows())\n",
    "    schema_text += f\"Table {schema}.{table}: {columns}\\n\"\n"
   ]
  },
  {
   "cell_type": "code",
   "execution_count": 8,
   "metadata": {},
   "outputs": [
    {
     "data": {
      "text/html": [
       "<div>\n",
       "<style scoped>\n",
       "    .dataframe tbody tr th:only-of-type {\n",
       "        vertical-align: middle;\n",
       "    }\n",
       "\n",
       "    .dataframe tbody tr th {\n",
       "        vertical-align: top;\n",
       "    }\n",
       "\n",
       "    .dataframe thead th {\n",
       "        text-align: right;\n",
       "    }\n",
       "</style>\n",
       "<table border=\"1\" class=\"dataframe\">\n",
       "  <thead>\n",
       "    <tr style=\"text-align: right;\">\n",
       "      <th></th>\n",
       "      <th>TABLE_CATALOG</th>\n",
       "      <th>TABLE_SCHEMA</th>\n",
       "      <th>TABLE_NAME</th>\n",
       "      <th>COLUMN_NAME</th>\n",
       "      <th>DATA_TYPE</th>\n",
       "    </tr>\n",
       "  </thead>\n",
       "  <tbody>\n",
       "    <tr>\n",
       "      <th>0</th>\n",
       "      <td>SalesLT</td>\n",
       "      <td>dbo</td>\n",
       "      <td>Address</td>\n",
       "      <td>AddressID</td>\n",
       "      <td>int</td>\n",
       "    </tr>\n",
       "    <tr>\n",
       "      <th>1</th>\n",
       "      <td>SalesLT</td>\n",
       "      <td>dbo</td>\n",
       "      <td>Address</td>\n",
       "      <td>AddressLine1</td>\n",
       "      <td>nvarchar</td>\n",
       "    </tr>\n",
       "    <tr>\n",
       "      <th>2</th>\n",
       "      <td>SalesLT</td>\n",
       "      <td>dbo</td>\n",
       "      <td>Address</td>\n",
       "      <td>AddressLine2</td>\n",
       "      <td>nvarchar</td>\n",
       "    </tr>\n",
       "    <tr>\n",
       "      <th>3</th>\n",
       "      <td>SalesLT</td>\n",
       "      <td>dbo</td>\n",
       "      <td>Address</td>\n",
       "      <td>City</td>\n",
       "      <td>nvarchar</td>\n",
       "    </tr>\n",
       "    <tr>\n",
       "      <th>4</th>\n",
       "      <td>SalesLT</td>\n",
       "      <td>dbo</td>\n",
       "      <td>Address</td>\n",
       "      <td>StateProvince</td>\n",
       "      <td>nvarchar</td>\n",
       "    </tr>\n",
       "    <tr>\n",
       "      <th>...</th>\n",
       "      <td>...</td>\n",
       "      <td>...</td>\n",
       "      <td>...</td>\n",
       "      <td>...</td>\n",
       "      <td>...</td>\n",
       "    </tr>\n",
       "    <tr>\n",
       "      <th>94</th>\n",
       "      <td>SalesLT</td>\n",
       "      <td>dbo</td>\n",
       "      <td>SalesOrderHeader</td>\n",
       "      <td>Freight</td>\n",
       "      <td>money</td>\n",
       "    </tr>\n",
       "    <tr>\n",
       "      <th>95</th>\n",
       "      <td>SalesLT</td>\n",
       "      <td>dbo</td>\n",
       "      <td>SalesOrderHeader</td>\n",
       "      <td>TotalDue</td>\n",
       "      <td>money</td>\n",
       "    </tr>\n",
       "    <tr>\n",
       "      <th>96</th>\n",
       "      <td>SalesLT</td>\n",
       "      <td>dbo</td>\n",
       "      <td>SalesOrderHeader</td>\n",
       "      <td>Comment</td>\n",
       "      <td>nvarchar</td>\n",
       "    </tr>\n",
       "    <tr>\n",
       "      <th>97</th>\n",
       "      <td>SalesLT</td>\n",
       "      <td>dbo</td>\n",
       "      <td>SalesOrderHeader</td>\n",
       "      <td>rowguid</td>\n",
       "      <td>uniqueidentifier</td>\n",
       "    </tr>\n",
       "    <tr>\n",
       "      <th>98</th>\n",
       "      <td>SalesLT</td>\n",
       "      <td>dbo</td>\n",
       "      <td>SalesOrderHeader</td>\n",
       "      <td>ModifiedDate</td>\n",
       "      <td>datetime</td>\n",
       "    </tr>\n",
       "  </tbody>\n",
       "</table>\n",
       "<p>99 rows × 5 columns</p>\n",
       "</div>"
      ],
      "text/plain": [
       "   TABLE_CATALOG TABLE_SCHEMA        TABLE_NAME    COLUMN_NAME  \\\n",
       "0        SalesLT          dbo           Address      AddressID   \n",
       "1        SalesLT          dbo           Address   AddressLine1   \n",
       "2        SalesLT          dbo           Address   AddressLine2   \n",
       "3        SalesLT          dbo           Address           City   \n",
       "4        SalesLT          dbo           Address  StateProvince   \n",
       "..           ...          ...               ...            ...   \n",
       "94       SalesLT          dbo  SalesOrderHeader        Freight   \n",
       "95       SalesLT          dbo  SalesOrderHeader       TotalDue   \n",
       "96       SalesLT          dbo  SalesOrderHeader        Comment   \n",
       "97       SalesLT          dbo  SalesOrderHeader        rowguid   \n",
       "98       SalesLT          dbo  SalesOrderHeader   ModifiedDate   \n",
       "\n",
       "           DATA_TYPE  \n",
       "0                int  \n",
       "1           nvarchar  \n",
       "2           nvarchar  \n",
       "3           nvarchar  \n",
       "4           nvarchar  \n",
       "..               ...  \n",
       "94             money  \n",
       "95             money  \n",
       "96          nvarchar  \n",
       "97  uniqueidentifier  \n",
       "98          datetime  \n",
       "\n",
       "[99 rows x 5 columns]"
      ]
     },
     "execution_count": 8,
     "metadata": {},
     "output_type": "execute_result"
    }
   ],
   "source": [
    "schema_df"
   ]
  },
  {
   "cell_type": "code",
   "execution_count": 9,
   "metadata": {},
   "outputs": [],
   "source": [
    "user_prompt = \"Can you add more table, The table should have at least 1 field that keeping json format as a nvarchar and should be related to the existing tables in the schema.\""
   ]
  },
  {
   "cell_type": "code",
   "execution_count": 10,
   "metadata": {},
   "outputs": [],
   "source": [
    "model_name = os.getenv(\"openai_model_name\")\n",
    "\n",
    "client = AzureOpenAI(\n",
    "    api_key=os.getenv(\"openai_model_api_key\"),\n",
    "    api_version=os.getenv(\"openai_api_version\"),\n",
    "    azure_endpoint=os.getenv(\"openai_api_endpoint\")\n",
    ")"
   ]
  },
  {
   "cell_type": "code",
   "execution_count": 11,
   "metadata": {},
   "outputs": [],
   "source": [
    "system_message = f\"\"\"\n",
    "You are a helpful assistant that writes SQL Server queries.\n",
    "Here is the database schema:\n",
    "\n",
    "{schema_text}\n",
    "\"\"\""
   ]
  },
  {
   "cell_type": "code",
   "execution_count": 12,
   "metadata": {},
   "outputs": [],
   "source": [
    "response = client.chat.completions.create(\n",
    "    model=model_name,\n",
    "    messages=[\n",
    "        {\"role\": \"system\", \"content\": system_message},\n",
    "        {\"role\": \"user\", \"content\": f\"Write a SQL Server query for this: {user_prompt}\"}\n",
    "    ]\n",
    ")"
   ]
  },
  {
   "cell_type": "markdown",
   "metadata": {},
   "source": [
    "**Generate Output**"
   ]
  },
  {
   "cell_type": "code",
   "execution_count": 13,
   "metadata": {},
   "outputs": [
    {
     "name": "stdout",
     "output_type": "stream",
     "text": [
      "Generated SQL:\n",
      " Sure! Here is an example of a new table called `ProductTag` that includes a field named `TagData` storing JSON format data and is related to the `Product` table:\n",
      "\n",
      "```sql\n",
      "CREATE TABLE dbo.ProductTag (\n",
      "    ProductTagID int PRIMARY KEY,\n",
      "    ProductID int,\n",
      "    TagData nvarchar(max),\n",
      "    CONSTRAINT FK_ProductTag_ProductID FOREIGN KEY (ProductID) REFERENCES dbo.Product(ProductID)\n",
      ");\n",
      "```\n",
      "\n",
      "In this hypothetical example, each product in the `Product` table can have multiple tags stored as JSON data in the `ProductTag` table. You can modify the table structure and relationships based on your specific requirements and relationships with existing tables in the schema.\n"
     ]
    }
   ],
   "source": [
    "generated_sql = response.choices[0].message.content\n",
    "print(\"Generated SQL:\\n\", generated_sql)"
   ]
  },
  {
   "cell_type": "code",
   "execution_count": 14,
   "metadata": {},
   "outputs": [
    {
     "name": "stdout",
     "output_type": "stream",
     "text": [
      "CREATE TABLE dbo.ProductTag (\n",
      "    ProductTagID int PRIMARY KEY,\n",
      "    ProductID int,\n",
      "    TagData nvarchar(max),\n",
      "    CONSTRAINT FK_ProductTag_ProductID FOREIGN KEY (ProductID) REFERENCES dbo.Product(ProductID)\n",
      ");\n",
      "\n",
      "In this hypothetical example, each product in the `Product` table can have multiple tags stored as JSON data in the `ProductTag` table. You can modify the table structure and relationships based on your specific requirements and relationships with existing tables in the schema.\n"
     ]
    }
   ],
   "source": [
    "# Extract just the SQL code between ```sql and ```\n",
    "sql_code_blocks = re.findall(r\"```sql\\s*(.*?)```\", response.choices[0].message.content, re.DOTALL)\n",
    "description_blocks = re.split(r\"```(?:sql)?[\\s\\S]*?```\", response.choices[0].message.content)\n",
    "\n",
    "if sql_code_blocks:\n",
    "    generated_sql = sql_code_blocks[0].strip()\n",
    "    generated_description = description_blocks[1].strip()\n",
    "else:\n",
    "    generated_sql = response.choices[0].message.content.strip()  # fallback\n",
    "    generated_description = response.choices[0].message.content.strip()  # fallback\n",
    "\n",
    "print(f\"{generated_sql}\\n\\n{generated_description}\")"
   ]
  },
  {
   "cell_type": "code",
   "execution_count": 15,
   "metadata": {},
   "outputs": [
    {
     "data": {
      "text/plain": [
       "'CREATE TABLE dbo.ProductTag (\\n    ProductTagID int PRIMARY KEY,\\n    ProductID int,\\n    TagData nvarchar(max),\\n    CONSTRAINT FK_ProductTag_ProductID FOREIGN KEY (ProductID) REFERENCES dbo.Product(ProductID)\\n);'"
      ]
     },
     "execution_count": 15,
     "metadata": {},
     "output_type": "execute_result"
    }
   ],
   "source": [
    "query_string = f\"\"\"{generated_sql}\"\"\"\n",
    "query_string"
   ]
  },
  {
   "cell_type": "markdown",
   "metadata": {},
   "source": [
    "**Final Dataframe**"
   ]
  },
  {
   "cell_type": "code",
   "execution_count": 16,
   "metadata": {},
   "outputs": [
    {
     "name": "stdout",
     "output_type": "stream",
     "text": [
      "Error running the query: 'NoneType' object is not iterable\n"
     ]
    },
    {
     "name": "stderr",
     "output_type": "stream",
     "text": [
      "C:\\Users\\Admins\\AppData\\Local\\Temp\\ipykernel_11092\\1492314482.py:2: UserWarning: pandas only supports SQLAlchemy connectable (engine/connection) or database string URI or sqlite3 DBAPI2 connection. Other DBAPI2 objects are not tested. Please consider using SQLAlchemy.\n",
      "  df = pd.read_sql_query(query_string, conn)\n"
     ]
    }
   ],
   "source": [
    "try:\n",
    "    df = pd.read_sql_query(query_string, conn)\n",
    "    print(\"Query Results:\")\n",
    "    display(df)\n",
    "except Exception as e:\n",
    "    print(\"Error running the query:\", e)"
   ]
  },
  {
   "cell_type": "markdown",
   "metadata": {},
   "source": [
    "**Create SQL Script from Output**"
   ]
  },
  {
   "cell_type": "code",
   "execution_count": 17,
   "metadata": {},
   "outputs": [],
   "source": [
    "Author = \"AI Generated SQL Query\"\n",
    "\n",
    "day = datetime.now().day\n",
    "month = datetime.now().month\n",
    "year = datetime.now().year\n",
    "date_obj = datetime(year, month, day)\n",
    "create_date = date_obj.strftime(\"%d/%m/%Y\")\n",
    "\n",
    "description = generated_description\n"
   ]
  },
  {
   "cell_type": "code",
   "execution_count": 18,
   "metadata": {},
   "outputs": [],
   "source": [
    "header = f\"\"\"-- =============================================\n",
    "-- Author:\t\t{Author}\n",
    "-- Create date: {create_date}\n",
    "-- Description:\t{description}\n",
    "-- =============================================\n",
    "\"\"\""
   ]
  },
  {
   "cell_type": "code",
   "execution_count": 19,
   "metadata": {},
   "outputs": [
    {
     "data": {
      "text/plain": [
       "'-- =============================================\\n-- Author:\\t\\tAI Generated SQL Query\\n-- Create date: 30/06/2025\\n-- Description:\\tIn this hypothetical example, each product in the `Product` table can have multiple tags stored as JSON data in the `ProductTag` table. You can modify the table structure and relationships based on your specific requirements and relationships with existing tables in the schema.\\n-- =============================================\\n'"
      ]
     },
     "execution_count": 19,
     "metadata": {},
     "output_type": "execute_result"
    }
   ],
   "source": [
    "header"
   ]
  },
  {
   "cell_type": "code",
   "execution_count": 20,
   "metadata": {},
   "outputs": [
    {
     "data": {
      "text/plain": [
       "'CREATE TABLE dbo.ProductTag (\\n    ProductTagID int PRIMARY KEY,\\n    ProductID int,\\n    TagData nvarchar(max),\\n    CONSTRAINT FK_ProductTag_ProductID FOREIGN KEY (ProductID) REFERENCES dbo.Product(ProductID)\\n);'"
      ]
     },
     "execution_count": 20,
     "metadata": {},
     "output_type": "execute_result"
    }
   ],
   "source": [
    "query_string"
   ]
  },
  {
   "cell_type": "code",
   "execution_count": 21,
   "metadata": {},
   "outputs": [],
   "source": [
    "def find_latest_script_number(folder_path):\n",
    "    folder = Path(folder_path)\n",
    "    max_number = 0\n",
    "\n",
    "    # Pattern to match filenames like Script-<number>.sql\n",
    "    pattern = re.compile(r\"Script-(\\d+)\\.sql\", re.IGNORECASE)\n",
    "\n",
    "    for file in folder.glob(\"Script-*.sql\"):\n",
    "        match = pattern.match(file.name)\n",
    "        if match:\n",
    "            number = int(match.group(1))\n",
    "            if number > max_number:\n",
    "                max_number = number\n",
    "\n",
    "    return max_number"
   ]
  },
  {
   "cell_type": "code",
   "execution_count": 22,
   "metadata": {},
   "outputs": [
    {
     "name": "stdout",
     "output_type": "stream",
     "text": [
      "Latest script number: 3\n"
     ]
    }
   ],
   "source": [
    "folder_path = script_dir / \"sql_script\"\n",
    "latest_number = find_latest_script_number(folder_path)\n",
    "print(\"Latest script number:\", latest_number)"
   ]
  },
  {
   "cell_type": "code",
   "execution_count": 23,
   "metadata": {},
   "outputs": [],
   "source": [
    "output_path = script_dir / \"sql_script\" / f\"Script-{latest_number+1}.sql\""
   ]
  },
  {
   "cell_type": "code",
   "execution_count": 24,
   "metadata": {},
   "outputs": [],
   "source": [
    "# Make sure the directory exists, create if not\n",
    "output_path.parent.mkdir(parents=True, exist_ok=True)"
   ]
  },
  {
   "cell_type": "code",
   "execution_count": 25,
   "metadata": {},
   "outputs": [
    {
     "name": "stdout",
     "output_type": "stream",
     "text": [
      "SQL file saved to: c:\\Users\\Admins\\Desktop\\Tae\\work\\azure-sql-2025-tester\\sql_script\\Script-4.sql\n"
     ]
    }
   ],
   "source": [
    "full_sql = header + \"\\n\" + query_string\n",
    "\n",
    "# Write to file\n",
    "with open(output_path, \"w\", encoding=\"utf-8\") as f:\n",
    "    f.write(full_sql)\n",
    "\n",
    "print(f\"SQL file saved to: {output_path}\")"
   ]
  }
 ],
 "metadata": {
  "kernelspec": {
   "display_name": "Python 3",
   "language": "python",
   "name": "python3"
  },
  "language_info": {
   "codemirror_mode": {
    "name": "ipython",
    "version": 3
   },
   "file_extension": ".py",
   "mimetype": "text/x-python",
   "name": "python",
   "nbconvert_exporter": "python",
   "pygments_lexer": "ipython3",
   "version": "3.8.10"
  }
 },
 "nbformat": 4,
 "nbformat_minor": 2
}
